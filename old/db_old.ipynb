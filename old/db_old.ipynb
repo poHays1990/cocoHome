{
 "cells": [
  {
   "cell_type": "code",
   "execution_count": 4,
   "metadata": {},
   "outputs": [],
   "source": [
    "from mysql.connector.pooling import MySQLConnectionPool\n",
    "from mysql.connector import Error\n",
    "import pandas as pd"
   ]
  },
  {
   "cell_type": "code",
   "execution_count": null,
   "metadata": {},
   "outputs": [],
   "source": [
    "dbconfig = {\n",
    "    \"user\": \"user1\",\n",
    "    \"password\": \"Arcep@1990\",\n",
    "    \"host\": \"localhost\",\n",
    "    \"database\": \"little_lemon_db\"\n",
    "}\n",
    "\n",
    "# Create the connection pool\n",
    "def create_pool(pool_size, pool_name): \n",
    "    try:\n",
    "        pool = MySQLConnectionPool(pool_name = pool_name,\n",
    "                            pool_size = pool_size,\n",
    "                            **dbconfig)\n",
    "        print(\"The connection pool is created with a name: \",pool.pool_name)\n",
    "        print(\"The pool size is:\",pool.pool_size)\n",
    "        return pool\n",
    "\n",
    "    except Error as er:\n",
    "        print(\"Error code:\", er.errno)\n",
    "        print(\"Error message:\", er.msg)\n",
    "\n",
    "def query_db(sql_query='', pool=None, values=None, fetch=True): \n",
    "    try: \n",
    "        connection = pool.get_connection()\n",
    "        cursor = connection.cursor()\n",
    "\n",
    "        if values:  # Vérifie si on doit exécuter plusieurs insertions\n",
    "            cursor.executemany(sql_query, values)\n",
    "        else:\n",
    "            cursor.execute(sql_query)\n",
    "\n",
    "        result = None\n",
    "        if fetch and cursor.with_rows:  # ✅ Vérifie si la requête retourne un résultat\n",
    "            result = cursor.fetchall()\n",
    "        \n",
    "        while cursor.nextset():  # 🔥 Vide tous les résultats restants\n",
    "            pass\n",
    "\n",
    "        connection.commit()\n",
    "        return result\n",
    "\n",
    "    except Exception as e:\n",
    "        print(f\"Error occurred: {e}\")\n",
    "        if connection.is_connected():\n",
    "            connection.rollback()\n",
    "\n",
    "    finally:\n",
    "        if 'cursor' in locals():\n",
    "            cursor.close()\n",
    "        if 'connection' in locals() and connection.is_connected():\n",
    "            connection.close()\n",
    "\n",
    "            "
   ]
  },
  {
   "cell_type": "code",
   "execution_count": 14,
   "metadata": {},
   "outputs": [
    {
     "name": "stdout",
     "output_type": "stream",
     "text": [
      "The connection pool is created with a name:  first_pool\n",
      "The pool size is: 3\n"
     ]
    }
   ],
   "source": [
    "# Create pool (size 3)\n",
    "first_pool = create_pool(3, \"first_pool\")\n",
    "\n",
    "\n",
    "# Exécution de plusieurs insertions\n",
    "query_db(sql_query=drop_query, pool=first_pool, fetch=False)\n",
    "query_db(sql_query=create_query, pool=first_pool, fetch=False)\n",
    "query_db(sql_query=insert_query, values=insert_values, pool=first_pool, fetch=False)\n",
    "\n",
    "\n"
   ]
  },
  {
   "cell_type": "code",
   "execution_count": null,
   "metadata": {},
   "outputs": [],
   "source": []
  },
  {
   "cell_type": "code",
   "execution_count": null,
   "metadata": {},
   "outputs": [],
   "source": []
  },
  {
   "cell_type": "code",
   "execution_count": null,
   "metadata": {},
   "outputs": [],
   "source": []
  }
 ],
 "metadata": {
  "kernelspec": {
   "display_name": "mercihome_env",
   "language": "python",
   "name": "python3"
  },
  "language_info": {
   "codemirror_mode": {
    "name": "ipython",
    "version": 3
   },
   "file_extension": ".py",
   "mimetype": "text/x-python",
   "name": "python",
   "nbconvert_exporter": "python",
   "pygments_lexer": "ipython3",
   "version": "3.12.9"
  }
 },
 "nbformat": 4,
 "nbformat_minor": 2
}
